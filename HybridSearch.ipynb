{
 "cells": [
  {
   "cell_type": "code",
   "execution_count": 28,
   "metadata": {},
   "outputs": [
    {
     "name": "stdout",
     "output_type": "stream",
     "text": [
      "Collecting rank_bm25\n",
      "  Downloading rank_bm25-0.2.2-py3-none-any.whl.metadata (3.2 kB)\n",
      "Requirement already satisfied: numpy in c:\\users\\admin\\.conda\\envs\\interview-prep\\lib\\site-packages (from rank_bm25) (1.26.4)\n",
      "Downloading rank_bm25-0.2.2-py3-none-any.whl (8.6 kB)\n",
      "Installing collected packages: rank_bm25\n",
      "Successfully installed rank_bm25-0.2.2\n"
     ]
    }
   ],
   "source": [
    "!pip install rank_bm25"
   ]
  },
  {
   "cell_type": "code",
   "execution_count": 80,
   "metadata": {},
   "outputs": [],
   "source": [
    "from langchain.document_loaders import PyPDFLoader, CSVLoader\n",
    "from langchain.text_splitter import RecursiveCharacterTextSplitter\n",
    "from langchain.embeddings.openai import OpenAIEmbeddings\n",
    "from langchain.vectorstores.faiss import FAISS\n",
    "from langchain.retrievers import BM25Retriever, EnsembleRetriever\n",
    "from langchain.chat_models.openai import ChatOpenAI\n",
    "from langchain.prompts import PromptTemplate\n",
    "from langchain_core.runnables import RunnablePassthrough\n",
    "from langchain_core.output_parsers import StrOutputParser\n",
    "from dotenv import load_dotenv\n",
    "import os"
   ]
  },
  {
   "cell_type": "code",
   "execution_count": 21,
   "metadata": {},
   "outputs": [],
   "source": [
    "load_dotenv()\n",
    "OPENAI_API_KEY = os.getenv('OPENAI_API_KEY')\n",
    "os.environ['OPENAI_API_KEY'] = OPENAI_API_KEY"
   ]
  },
  {
   "cell_type": "code",
   "execution_count": 5,
   "metadata": {},
   "outputs": [],
   "source": [
    "loader = PyPDFLoader(\"./data/SystemAdminGuide.pdf\")\n",
    "document = loader.load()"
   ]
  },
  {
   "cell_type": "code",
   "execution_count": 152,
   "metadata": {},
   "outputs": [],
   "source": [
    "loader1 = CSVLoader(\"./data/final_data.csv\")\n",
    "document1 = loader1.load()"
   ]
  },
  {
   "cell_type": "code",
   "execution_count": 6,
   "metadata": {},
   "outputs": [],
   "source": [
    "document = document[13:]\n",
    "for i in range(len(document)):\n",
    "    junk_text = f\"Ericsson Internal  \\nSYSTEM ADMINISTRATION GUIDE   \\n{i+14} (334) \\nPrepared (Subject resp)  No. \\nZNIAISD Aditi Singh  1543 -AOT 101 5177 Uen  \\nApproved (Document resp)  Checked  Date  Rev Reference  \\n  2020 -11-04 PX4\"\n",
    "    document[i].page_content = document[i].page_content.replace(junk_text, \"\")"
   ]
  },
  {
   "cell_type": "code",
   "execution_count": 185,
   "metadata": {},
   "outputs": [],
   "source": [
    "splitter = RecursiveCharacterTextSplitter(chunk_size=1000, chunk_overlap=200)\n",
    "text_chunks = splitter.split_documents(document1)"
   ]
  },
  {
   "cell_type": "code",
   "execution_count": 22,
   "metadata": {},
   "outputs": [
    {
     "name": "stderr",
     "output_type": "stream",
     "text": [
      "c:\\Users\\Admin\\.conda\\envs\\interview-prep\\lib\\site-packages\\langchain_core\\_api\\deprecation.py:139: LangChainDeprecationWarning: The class `OpenAIEmbeddings` was deprecated in LangChain 0.0.9 and will be removed in 0.3.0. An updated version of the class exists in the langchain-openai package and should be used instead. To use it run `pip install -U langchain-openai` and import as `from langchain_openai import OpenAIEmbeddings`.\n",
      "  warn_deprecated(\n"
     ]
    }
   ],
   "source": [
    "embeddings = OpenAIEmbeddings()"
   ]
  },
  {
   "cell_type": "code",
   "execution_count": 111,
   "metadata": {},
   "outputs": [],
   "source": [
    "PROMPT_TEMPLATE = (\"\"\"\n",
    "Use the following pieces of information to answer the user's question.\n",
    "If you dont know the answer just say you know, don't try to make up an answer.\n",
    "\n",
    "Context:{context}\n",
    "\n",
    "Only return the helpful answer below and nothing else\n",
    "Helpful answer\n",
    "{question}                   \n",
    "\"\"\"\n",
    ")"
   ]
  },
  {
   "cell_type": "code",
   "execution_count": 112,
   "metadata": {},
   "outputs": [],
   "source": [
    "prompt_template = PromptTemplate(input_variables=[\"context\", \"question\"], template=PROMPT_TEMPLATE)"
   ]
  },
  {
   "cell_type": "code",
   "execution_count": 205,
   "metadata": {},
   "outputs": [],
   "source": [
    "vector_store = FAISS.from_documents(text_chunks, embeddings)\n",
    "retriever = vector_store.as_retriever(k=6)"
   ]
  },
  {
   "cell_type": "code",
   "execution_count": 206,
   "metadata": {},
   "outputs": [
    {
     "data": {
      "text/plain": [
       "[Document(page_content='subject: To create Support Groups\\ncontent: On the\\xa0Standard Configuration\\xa0tab of the Application Administration Console, select the correct company.\\nClick the\\xa0Create\\xa0link next to Support Group.\\nEnter or select information in the\\xa0Support Organization\\xa0field. Enter the name of the support organization to create it. After you add the first support group to the organization, you can select the organization when you add the next support group.\\nEnter or select information in the\\xa0Support Group Name\\xa0field.\\nEnter or select the support group role. The\\xa0Support Group Role\\xa0field describes the role that the support group has in the organization. For example, the support group named Internal Support might provide the Help Desk function, while another support group provides tier 2 support.\\n\\xa0\\nYou choose from the following support group roles, which are levels in the support group hierarchy:\\nHelp Desk\\nTier 1\\nTier 2\\nTier', metadata={'source': './data/final_data.csv', 'row': 34}),\n",
       " Document(page_content='You can also select the Line of Business support group role, which can be \\nassigned to a non-IT team that supports customers with a particular business need.\\nClick\\xa0Add.\\nRepeat\\xa0c\\xa0though\\xa0f\\xa0to add all the support groups that you require.\\nWhen you are finished configuring support organizations and groups for the company, click\\xa0Close.', metadata={'source': './data/final_data.csv', 'row': 34}),\n",
       " Document(page_content='BPMS will inform CI team which support group needs to be used for change and Problem request and base on that respective support group needs to create in ITSM NG.\\nConfigure the User for BPMS specific support group in ITSM NG\\nMake sure user Network Actuation should be Infrastructure Change Coordinator for the same newly created group. Follow below steps for the same.\\nLogin to ITSM NG and Open People form.\\nOpen People profile with Login ID as NetworkActuation\\nGo to Support Groups Tab,\\nOpen Support Group and add newly created support group.\\nOpen Support Group Function Role tab and add newly created group and give functional role as Infrastructure Change Coordinator.\\nBPMS CR Auto approval configuration:\\nAs per BPMS EOE process, if the CR fit into BPMS Change policy then that CR will be approved by the BPMS and CR Should directly move the Scheduled status.\\nIf CR fits into BPMS Change policy BPMS sends additional flag (CRRuleValue1 and CRRuleValue2) towards ITSM.', metadata={'source': './data/final_data.csv', 'row': 146}),\n",
       " Document(page_content='To exclude the above 2 support groups from the assignment purpose following are the steps need to perform.\\nGo to Application Administration Console---\\uf0e0Custom Configuration----\\uf0e0Foundation----\\uf0e0 Advanced Options--\\uf0e0Support Group Configuration\\nNow select the company “ATT-O-MS-MX” from the Drop Down. It will list down all the support groups that present under the Company as mentioned in below.\\nNow select both the support groups which created for the notification purpose and remove it from the list by clicking on the arrow as mentioned in the screenshot below.\\nNote:- Even if all the above configuration has done for the customer “ATT-O-MS-MX” but the same type of configuration can be done for other customer as well if they demand same kind of notifications requirement.', metadata={'source': './data/final_data.csv', 'row': 168})]"
      ]
     },
     "execution_count": 206,
     "metadata": {},
     "output_type": "execute_result"
    }
   ],
   "source": [
    "retriever.get_relevant_documents(\"How to configure support groups in ITSM?\")"
   ]
  },
  {
   "cell_type": "code",
   "execution_count": 155,
   "metadata": {},
   "outputs": [],
   "source": [
    "llm = ChatOpenAI(temperature=0.3)"
   ]
  },
  {
   "cell_type": "code",
   "execution_count": 187,
   "metadata": {},
   "outputs": [],
   "source": [
    "keyword_retriever = BM25Retriever.from_documents(text_chunks)"
   ]
  },
  {
   "cell_type": "code",
   "execution_count": 188,
   "metadata": {},
   "outputs": [],
   "source": [
    "keyword_retriever.k = 3"
   ]
  },
  {
   "cell_type": "code",
   "execution_count": 189,
   "metadata": {},
   "outputs": [],
   "source": [
    "ensemble_retriever = EnsembleRetriever(retrievers=[retriever, keyword_retriever], weights=[0.9, 0.1])"
   ]
  },
  {
   "cell_type": "code",
   "execution_count": 190,
   "metadata": {},
   "outputs": [],
   "source": [
    "retrieval_chain = ({\"context\": ensemble_retriever, \"question\": RunnablePassthrough()} |\n",
    "                   prompt_template |\n",
    "                   llm |\n",
    "                   StrOutputParser())"
   ]
  },
  {
   "cell_type": "code",
   "execution_count": 191,
   "metadata": {},
   "outputs": [],
   "source": [
    "response = retrieval_chain.invoke(\"How to configure support groups in ITSM?\")"
   ]
  },
  {
   "cell_type": "code",
   "execution_count": 192,
   "metadata": {},
   "outputs": [
    {
     "data": {
      "text/plain": [
       "'To configure support groups in ITSM, you need to go to the Application Administration Console, select the correct company, click the Create link next to Support Group, enter the Support Organization, Support Group Name, and select the Support Group Role. Repeat these steps to add all the support groups that you require.'"
      ]
     },
     "execution_count": 192,
     "metadata": {},
     "output_type": "execute_result"
    }
   ],
   "source": [
    "response"
   ]
  },
  {
   "cell_type": "code",
   "execution_count": 198,
   "metadata": {},
   "outputs": [
    {
     "data": {
      "text/plain": [
       "'A new configuration parameter has been added to specify whether an incident is required for an emergency change. This configuration form is accessible to users with \"Infrastructure Change Config\" permission.'"
      ]
     },
     "execution_count": 198,
     "metadata": {},
     "output_type": "execute_result"
    }
   ],
   "source": [
    "response1 = retrieval_chain.invoke(\"Incident Relationship to Emergency CR configuration\")\n",
    "response1"
   ]
  },
  {
   "cell_type": "code",
   "execution_count": 171,
   "metadata": {},
   "outputs": [
    {
     "data": {
      "text/plain": [
       "[Document(page_content='subject: Worklog mandatory configuration\\ncontent: Worklog mandatory is configurable for Completed and Cancelled status for change module. To configure navigate to Application Administration Console>Custom Configuration>Change Management>Rules', metadata={'source': './data/final_data.csv', 'row': 42}),\n",
       " Document(page_content='Critical and High \\uf0e0 Worklog type “Install Results-Details” will be mandatory for only Critical and High change ticket.\\nWorklog mandatory for ticket cancel \\uf0e0Worklog type “Cancellation Information” is mandatory while cancelling a ticket.', metadata={'source': './data/final_data.csv', 'row': 42}),\n",
       " Document(page_content='a record will be created in this form and counting will show in worklog that how much CI Uploaded successfully. As part of the MRD 1904 add new field which will give all the CI name that getting failed. A new table also has been added with Ci Load ID and CI Name.', metadata={'source': './data/final_data.csv', 'row': 220}),\n",
       " Document(page_content='Archiving has been enabled on this form on daily basis.\\nAfter all the CIs are related to the Incident and Change it will create a single worklog in the Incident and Change form.', metadata={'source': './data/final_data.csv', 'row': 210}),\n",
       " Document(page_content='To add menu items to a additional info field.\\nUser can also make additional info fields mandatory under Mandatory field configuration.', metadata={'source': './data/final_data.csv', 'row': 154}),\n",
       " Document(page_content='Field Current Scenario Status for which the fields are mandatory Changes to be made Service Field is in Bold even-though not mandatory NA Need to un-bold the field Priority Field is not in bold even-though mandatory NA Need to make the field bold. 1.Op Cat Tier 1 2.Op Cat Tier 2 Fields not in bold', metadata={'source': './data/final_data.csv', 'row': 251}),\n",
       " Document(page_content='If we want to edit the parameter click on pencil icon and edit the required.\\nIf we want to make Parent/Child then edit the existing parameter and select parent/child as yes and click on save it will open the relationship build console', metadata={'source': './data/final_data.csv', 'row': 41})]"
      ]
     },
     "execution_count": 171,
     "metadata": {},
     "output_type": "execute_result"
    }
   ],
   "source": [
    "ensemble_retriever.get_relevant_documents(\"Can we make worklog mandatory in CR?\")"
   ]
  },
  {
   "cell_type": "code",
   "execution_count": 201,
   "metadata": {},
   "outputs": [
    {
     "data": {
      "text/plain": [
       "[Document(page_content='subject: Configuration for Requested Dates Mandatory during Change Create.\\ncontent: As part of the current CM B2B design “Requested Start Date” and “Requested End Date” is mandatory to create the CR irrespective of any change class and customer system need to send these two date/time values while sending the Cerate request. As per the OFR requirement these two date/time fields should not be mandatory to create the CR. So following changes need to be done in the existing design to fulfill the requirement.\\nIn the form “Eric:CustomerInterface” 5 checkboxes has been created as. Refer below screen shot.\\nNormal\\nEmergency\\nExpedited\\nNo Impact\\nStandard\\nFor any customer if Requested Start date and End date need to be set as “Mandatory” for a particular change Class then the respective check box need to be checked. By Default For CR Type Latent Requested Start Data and End Dates are mandatory.', metadata={'source': './data/final_data.csv', 'row': 48}),\n",
       " Document(page_content='Actual End Date\\nRequested Start Date\\nRequested End Date\\nRFC date\\nEarliest Start Date\\nFor Problem\\nTarget Resolution Date-PBI\\nKnown Error Created Date\\nWorkaround Determined On\\nFirst Reported On\\nNote :- This solution is not covering the scenario like If there is a member who belongs to the NOC India and currently following the IST time zone and NOC India is supporting the operation for company Moldcell-OF-MD, then on that case all the notifications that triggering to the members of the NOC india will not having the Timestamp value in IST time zone, It will be in “GMT+2:Bucharest “ timezone only. So this solution is not specific to the user level or not followed the User specific timezone as mentioned in the User preference form.', metadata={'source': './data/final_data.csv', 'row': 167}),\n",
       " Document(page_content='Requested start date and requested end date:\\nAn Activelink is written to focus and highlight the field in red,throw an error popup when Requested start date and requested end date fields are null as the change is moved to request for authorization state.\\nActual start and actual end date:\\nAn Activelink is written to focus and highlight the field in red,throw an error popup when Actual start date and Actual end date fields are null as the change is moved to Completed status.', metadata={'source': './data/final_data.csv', 'row': 252}),\n",
       " Document(page_content='subject: Mandatory Event Start Time\\ncontent: Event Start Time on Incident can be made mandatory as an user input for manual incident creation. \\nThis is configurable in COM:Company form by selecting the configuration Mandatory Event Start Time = “Yes”.', metadata={'source': './data/final_data.csv', 'row': 56}),\n",
       " Document(page_content='4- As part of this solution the workflow has written in backend which will consider the following fields for converting the time zone from CET to the Corresponding timezone as configured in the form Company. The Scenario of Daylight savings will be taken care automatically by the OOTB Timezone system. Apart from the following fields as mentioned in below if any new Date/Time field added in the form and customer ask to add the field in the Notification message then changes need to be done from the workflow level.\\n                         For Incident\\nResolution Target Date\\nRespond Target Date\\nEvent_Start_Time\\nEvent_End_Time\\nVendor Resolved Date\\nVendor Responded On\\nReported to Vendor\\n                      For Change\\nScheduled Start Date\\nScheduled End Date\\nActual Start Date\\nActual End Date\\nRequested Start Date\\nRequested End Date\\nRFC date\\nEarliest Start Date\\nFor Problem\\nTarget Resolution Date-PBI\\nKnown Error Created Date\\nWorkaround Determined On\\nFirst Reported On', metadata={'source': './data/final_data.csv', 'row': 167})]"
      ]
     },
     "execution_count": 201,
     "metadata": {},
     "output_type": "execute_result"
    }
   ],
   "source": [
    "ensemble_retriever.get_relevant_documents(\"How to make Requested Start Date and Requested End Date mandatory in CR creation?\", score=True)"
   ]
  },
  {
   "cell_type": "code",
   "execution_count": 202,
   "metadata": {},
   "outputs": [
    {
     "data": {
      "text/plain": [
       "[Document(page_content='subject: Configuration for Requested Dates Mandatory during Change Create.\\ncontent: As part of the current CM B2B design “Requested Start Date” and “Requested End Date” is mandatory to create the CR irrespective of any change class and customer system need to send these two date/time values while sending the Cerate request. As per the OFR requirement these two date/time fields should not be mandatory to create the CR. So following changes need to be done in the existing design to fulfill the requirement.\\nIn the form “Eric:CustomerInterface” 5 checkboxes has been created as. Refer below screen shot.\\nNormal\\nEmergency\\nExpedited\\nNo Impact\\nStandard\\nFor any customer if Requested Start date and End date need to be set as “Mandatory” for a particular change Class then the respective check box need to be checked. By Default For CR Type Latent Requested Start Data and End Dates are mandatory.', metadata={'source': './data/final_data.csv', 'row': 48}),\n",
       " Document(page_content='Requested start date and requested end date:\\nAn Activelink is written to focus and highlight the field in red,throw an error popup when Requested start date and requested end date fields are null as the change is moved to request for authorization state.\\nActual start and actual end date:\\nAn Activelink is written to focus and highlight the field in red,throw an error popup when Actual start date and Actual end date fields are null as the change is moved to Completed status.', metadata={'source': './data/final_data.csv', 'row': 252}),\n",
       " Document(page_content='Actual End Date\\nRequested Start Date\\nRequested End Date\\nRFC date\\nEarliest Start Date\\nFor Problem\\nTarget Resolution Date-PBI\\nKnown Error Created Date\\nWorkaround Determined On\\nFirst Reported On\\nNote :- This solution is not covering the scenario like If there is a member who belongs to the NOC India and currently following the IST time zone and NOC India is supporting the operation for company Moldcell-OF-MD, then on that case all the notifications that triggering to the members of the NOC india will not having the Timestamp value in IST time zone, It will be in “GMT+2:Bucharest “ timezone only. So this solution is not specific to the user level or not followed the User specific timezone as mentioned in the User preference form.', metadata={'source': './data/final_data.csv', 'row': 167}),\n",
       " Document(page_content='subject: Mandatory Event Start Time\\ncontent: Event Start Time on Incident can be made mandatory as an user input for manual incident creation. \\nThis is configurable in COM:Company form by selecting the configuration Mandatory Event Start Time = “Yes”.', metadata={'source': './data/final_data.csv', 'row': 56})]"
      ]
     },
     "execution_count": 202,
     "metadata": {},
     "output_type": "execute_result"
    }
   ],
   "source": [
    "retriever.invoke(\"How to make Requested Start Date and Requested End Date mandatory in CR creation?\", score=True)"
   ]
  },
  {
   "cell_type": "code",
   "execution_count": null,
   "metadata": {},
   "outputs": [],
   "source": []
  }
 ],
 "metadata": {
  "kernelspec": {
   "display_name": "interview-prep",
   "language": "python",
   "name": "python3"
  },
  "language_info": {
   "codemirror_mode": {
    "name": "ipython",
    "version": 3
   },
   "file_extension": ".py",
   "mimetype": "text/x-python",
   "name": "python",
   "nbconvert_exporter": "python",
   "pygments_lexer": "ipython3",
   "version": "3.10.0"
  }
 },
 "nbformat": 4,
 "nbformat_minor": 2
}
