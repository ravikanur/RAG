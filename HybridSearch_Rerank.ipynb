{
 "cells": [
  {
   "cell_type": "code",
   "execution_count": 9,
   "metadata": {},
   "outputs": [
    {
     "name": "stdout",
     "output_type": "stream",
     "text": [
      "Collecting weaviate-client\n",
      "  Downloading weaviate_client-4.6.5-py3-none-any.whl.metadata (3.3 kB)\n",
      "Requirement already satisfied: requests<3.0.0,>=2.30.0 in c:\\users\\admin\\.conda\\envs\\interview-prep\\lib\\site-packages (from weaviate-client) (2.32.3)\n",
      "Requirement already satisfied: httpx<=0.27.0,>=0.25.0 in c:\\users\\admin\\.conda\\envs\\interview-prep\\lib\\site-packages (from weaviate-client) (0.27.0)\n",
      "Collecting validators==0.28.3 (from weaviate-client)\n",
      "  Downloading validators-0.28.3-py3-none-any.whl.metadata (3.6 kB)\n",
      "Collecting authlib<2.0.0,>=1.2.1 (from weaviate-client)\n",
      "  Downloading Authlib-1.3.1-py2.py3-none-any.whl.metadata (3.8 kB)\n",
      "Requirement already satisfied: pydantic<3.0.0,>=2.5.0 in c:\\users\\admin\\.conda\\envs\\interview-prep\\lib\\site-packages (from weaviate-client) (2.7.4)\n",
      "Requirement already satisfied: grpcio<2.0.0,>=1.57.0 in c:\\users\\admin\\.conda\\envs\\interview-prep\\lib\\site-packages (from weaviate-client) (1.64.1)\n",
      "Collecting grpcio-tools<2.0.0,>=1.57.0 (from weaviate-client)\n",
      "  Downloading grpcio_tools-1.64.1-cp310-cp310-win_amd64.whl.metadata (5.5 kB)\n",
      "Collecting grpcio-health-checking<2.0.0,>=1.57.0 (from weaviate-client)\n",
      "  Downloading grpcio_health_checking-1.64.1-py3-none-any.whl.metadata (1.1 kB)\n",
      "Collecting cryptography (from authlib<2.0.0,>=1.2.1->weaviate-client)\n",
      "  Downloading cryptography-42.0.8-cp39-abi3-win_amd64.whl.metadata (5.4 kB)\n",
      "Collecting protobuf<6.0dev,>=5.26.1 (from grpcio-health-checking<2.0.0,>=1.57.0->weaviate-client)\n",
      "  Downloading protobuf-5.27.1-cp310-abi3-win_amd64.whl.metadata (592 bytes)\n",
      "Requirement already satisfied: setuptools in c:\\users\\admin\\.conda\\envs\\interview-prep\\lib\\site-packages (from grpcio-tools<2.0.0,>=1.57.0->weaviate-client) (69.5.1)\n",
      "Requirement already satisfied: anyio in c:\\users\\admin\\.conda\\envs\\interview-prep\\lib\\site-packages (from httpx<=0.27.0,>=0.25.0->weaviate-client) (4.4.0)\n",
      "Requirement already satisfied: certifi in c:\\users\\admin\\.conda\\envs\\interview-prep\\lib\\site-packages (from httpx<=0.27.0,>=0.25.0->weaviate-client) (2024.6.2)\n",
      "Requirement already satisfied: httpcore==1.* in c:\\users\\admin\\.conda\\envs\\interview-prep\\lib\\site-packages (from httpx<=0.27.0,>=0.25.0->weaviate-client) (1.0.5)\n",
      "Requirement already satisfied: idna in c:\\users\\admin\\.conda\\envs\\interview-prep\\lib\\site-packages (from httpx<=0.27.0,>=0.25.0->weaviate-client) (3.7)\n",
      "Requirement already satisfied: sniffio in c:\\users\\admin\\.conda\\envs\\interview-prep\\lib\\site-packages (from httpx<=0.27.0,>=0.25.0->weaviate-client) (1.3.1)\n",
      "Requirement already satisfied: h11<0.15,>=0.13 in c:\\users\\admin\\.conda\\envs\\interview-prep\\lib\\site-packages (from httpcore==1.*->httpx<=0.27.0,>=0.25.0->weaviate-client) (0.14.0)\n",
      "Requirement already satisfied: annotated-types>=0.4.0 in c:\\users\\admin\\.conda\\envs\\interview-prep\\lib\\site-packages (from pydantic<3.0.0,>=2.5.0->weaviate-client) (0.7.0)\n",
      "Requirement already satisfied: pydantic-core==2.18.4 in c:\\users\\admin\\.conda\\envs\\interview-prep\\lib\\site-packages (from pydantic<3.0.0,>=2.5.0->weaviate-client) (2.18.4)\n",
      "Requirement already satisfied: typing-extensions>=4.6.1 in c:\\users\\admin\\.conda\\envs\\interview-prep\\lib\\site-packages (from pydantic<3.0.0,>=2.5.0->weaviate-client) (4.12.2)\n",
      "Requirement already satisfied: charset-normalizer<4,>=2 in c:\\users\\admin\\.conda\\envs\\interview-prep\\lib\\site-packages (from requests<3.0.0,>=2.30.0->weaviate-client) (3.3.2)\n",
      "Requirement already satisfied: urllib3<3,>=1.21.1 in c:\\users\\admin\\.conda\\envs\\interview-prep\\lib\\site-packages (from requests<3.0.0,>=2.30.0->weaviate-client) (2.2.1)\n",
      "Requirement already satisfied: exceptiongroup>=1.0.2 in c:\\users\\admin\\.conda\\envs\\interview-prep\\lib\\site-packages (from anyio->httpx<=0.27.0,>=0.25.0->weaviate-client) (1.2.0)\n",
      "Collecting cffi>=1.12 (from cryptography->authlib<2.0.0,>=1.2.1->weaviate-client)\n",
      "  Downloading cffi-1.16.0-cp310-cp310-win_amd64.whl.metadata (1.5 kB)\n",
      "Collecting pycparser (from cffi>=1.12->cryptography->authlib<2.0.0,>=1.2.1->weaviate-client)\n",
      "  Using cached pycparser-2.22-py3-none-any.whl.metadata (943 bytes)\n",
      "Downloading weaviate_client-4.6.5-py3-none-any.whl (325 kB)\n",
      "   ---------------------------------------- 0.0/325.7 kB ? eta -:--:--\n",
      "   -------------------------------------- - 317.4/325.7 kB 9.9 MB/s eta 0:00:01\n",
      "   ---------------------------------------- 325.7/325.7 kB 6.7 MB/s eta 0:00:00\n",
      "Downloading validators-0.28.3-py3-none-any.whl (40 kB)\n",
      "   ---------------------------------------- 0.0/40.0 kB ? eta -:--:--\n",
      "   ---------------------------------------- 40.0/40.0 kB 1.9 MB/s eta 0:00:00\n",
      "Downloading Authlib-1.3.1-py2.py3-none-any.whl (223 kB)\n",
      "   ---------------------------------------- 0.0/223.8 kB ? eta -:--:--\n",
      "   --------------------------------------- 223.8/223.8 kB 13.3 MB/s eta 0:00:00\n",
      "Downloading grpcio_health_checking-1.64.1-py3-none-any.whl (18 kB)\n",
      "Downloading grpcio_tools-1.64.1-cp310-cp310-win_amd64.whl (1.1 MB)\n",
      "   ---------------------------------------- 0.0/1.1 MB ? eta -:--:--\n",
      "   ---------------------------------------  1.1/1.1 MB 34.4 MB/s eta 0:00:01\n",
      "   ---------------------------------------- 1.1/1.1 MB 13.7 MB/s eta 0:00:00\n",
      "Downloading protobuf-5.27.1-cp310-abi3-win_amd64.whl (426 kB)\n",
      "   ---------------------------------------- 0.0/426.9 kB ? eta -:--:--\n",
      "   --------------------------------------- 426.9/426.9 kB 26.0 MB/s eta 0:00:00\n",
      "Downloading cryptography-42.0.8-cp39-abi3-win_amd64.whl (2.9 MB)\n",
      "   ---------------------------------------- 0.0/2.9 MB ? eta -:--:--\n",
      "   ----------------------------------- ---- 2.5/2.9 MB 53.8 MB/s eta 0:00:01\n",
      "   ---------------------------------------  2.9/2.9 MB 45.5 MB/s eta 0:00:01\n",
      "   ---------------------------------------- 2.9/2.9 MB 30.6 MB/s eta 0:00:00\n",
      "Downloading cffi-1.16.0-cp310-cp310-win_amd64.whl (181 kB)\n",
      "   ---------------------------------------- 0.0/181.6 kB ? eta -:--:--\n",
      "   -------------------------------------- - 174.1/181.6 kB ? eta -:--:--\n",
      "   ---------------------------------------- 181.6/181.6 kB 3.6 MB/s eta 0:00:00\n",
      "Using cached pycparser-2.22-py3-none-any.whl (117 kB)\n",
      "Installing collected packages: validators, pycparser, protobuf, grpcio-tools, grpcio-health-checking, cffi, cryptography, authlib, weaviate-client\n",
      "  Attempting uninstall: protobuf\n",
      "    Found existing installation: protobuf 4.25.3\n",
      "    Uninstalling protobuf-4.25.3:\n",
      "      Successfully uninstalled protobuf-4.25.3\n",
      "Successfully installed authlib-1.3.1 cffi-1.16.0 cryptography-42.0.8 grpcio-health-checking-1.64.1 grpcio-tools-1.64.1 protobuf-5.27.1 pycparser-2.22 validators-0.28.3 weaviate-client-4.6.5\n"
     ]
    },
    {
     "name": "stderr",
     "output_type": "stream",
     "text": [
      "ERROR: pip's dependency resolver does not currently take into account all the packages that are installed. This behaviour is the source of the following dependency conflicts.\n",
      "google-api-core 2.19.0 requires protobuf!=3.20.0,!=3.20.1,!=4.21.0,!=4.21.1,!=4.21.2,!=4.21.3,!=4.21.4,!=4.21.5,<5.0.0.dev0,>=3.19.5, but you have protobuf 5.27.1 which is incompatible.\n",
      "google-cloud-aiplatform 1.56.0 requires protobuf!=3.20.0,!=3.20.1,!=4.21.0,!=4.21.1,!=4.21.2,!=4.21.3,!=4.21.4,!=4.21.5,<5.0.0dev,>=3.19.5, but you have protobuf 5.27.1 which is incompatible.\n",
      "google-cloud-resource-manager 1.12.3 requires protobuf!=3.20.0,!=3.20.1,!=4.21.0,!=4.21.1,!=4.21.2,!=4.21.3,!=4.21.4,!=4.21.5,<5.0.0dev,>=3.19.5, but you have protobuf 5.27.1 which is incompatible.\n",
      "grpc-google-iam-v1 0.13.0 requires protobuf!=3.20.0,!=3.20.1,!=4.21.1,!=4.21.2,!=4.21.3,!=4.21.4,!=4.21.5,<5.0.0dev,>=3.19.5, but you have protobuf 5.27.1 which is incompatible.\n",
      "opentelemetry-proto 1.25.0 requires protobuf<5.0,>=3.19, but you have protobuf 5.27.1 which is incompatible.\n"
     ]
    }
   ],
   "source": [
    "!pip install weaviate-client"
   ]
  },
  {
   "cell_type": "code",
   "execution_count": 40,
   "metadata": {},
   "outputs": [
    {
     "name": "stdout",
     "output_type": "stream",
     "text": [
      "Requirement already satisfied: cohere in c:\\users\\admin\\.conda\\envs\\interview-prep\\lib\\site-packages (5.5.8)\n",
      "Requirement already satisfied: boto3<2.0.0,>=1.34.0 in c:\\users\\admin\\.conda\\envs\\interview-prep\\lib\\site-packages (from cohere) (1.34.131)\n",
      "Requirement already satisfied: fastavro<2.0.0,>=1.9.4 in c:\\users\\admin\\.conda\\envs\\interview-prep\\lib\\site-packages (from cohere) (1.9.4)\n",
      "Requirement already satisfied: httpx>=0.21.2 in c:\\users\\admin\\.conda\\envs\\interview-prep\\lib\\site-packages (from cohere) (0.27.0)\n",
      "Requirement already satisfied: httpx-sse<0.5.0,>=0.4.0 in c:\\users\\admin\\.conda\\envs\\interview-prep\\lib\\site-packages (from cohere) (0.4.0)\n",
      "Requirement already satisfied: parameterized<0.10.0,>=0.9.0 in c:\\users\\admin\\.conda\\envs\\interview-prep\\lib\\site-packages (from cohere) (0.9.0)\n",
      "Requirement already satisfied: pydantic>=1.9.2 in c:\\users\\admin\\.conda\\envs\\interview-prep\\lib\\site-packages (from cohere) (2.7.4)\n",
      "Requirement already satisfied: requests<3.0.0,>=2.0.0 in c:\\users\\admin\\.conda\\envs\\interview-prep\\lib\\site-packages (from cohere) (2.32.3)\n",
      "Requirement already satisfied: tokenizers<1,>=0.15 in c:\\users\\admin\\.conda\\envs\\interview-prep\\lib\\site-packages (from cohere) (0.19.1)\n",
      "Requirement already satisfied: types-requests<3.0.0,>=2.0.0 in c:\\users\\admin\\.conda\\envs\\interview-prep\\lib\\site-packages (from cohere) (2.32.0.20240622)\n",
      "Requirement already satisfied: typing_extensions>=4.0.0 in c:\\users\\admin\\.conda\\envs\\interview-prep\\lib\\site-packages (from cohere) (4.12.2)\n",
      "Requirement already satisfied: botocore<1.35.0,>=1.34.131 in c:\\users\\admin\\.conda\\envs\\interview-prep\\lib\\site-packages (from boto3<2.0.0,>=1.34.0->cohere) (1.34.131)\n",
      "Requirement already satisfied: jmespath<2.0.0,>=0.7.1 in c:\\users\\admin\\.conda\\envs\\interview-prep\\lib\\site-packages (from boto3<2.0.0,>=1.34.0->cohere) (1.0.1)\n",
      "Requirement already satisfied: s3transfer<0.11.0,>=0.10.0 in c:\\users\\admin\\.conda\\envs\\interview-prep\\lib\\site-packages (from boto3<2.0.0,>=1.34.0->cohere) (0.10.1)\n",
      "Requirement already satisfied: anyio in c:\\users\\admin\\.conda\\envs\\interview-prep\\lib\\site-packages (from httpx>=0.21.2->cohere) (4.4.0)\n",
      "Requirement already satisfied: certifi in c:\\users\\admin\\.conda\\envs\\interview-prep\\lib\\site-packages (from httpx>=0.21.2->cohere) (2024.6.2)\n",
      "Requirement already satisfied: httpcore==1.* in c:\\users\\admin\\.conda\\envs\\interview-prep\\lib\\site-packages (from httpx>=0.21.2->cohere) (1.0.5)\n",
      "Requirement already satisfied: idna in c:\\users\\admin\\.conda\\envs\\interview-prep\\lib\\site-packages (from httpx>=0.21.2->cohere) (3.7)\n",
      "Requirement already satisfied: sniffio in c:\\users\\admin\\.conda\\envs\\interview-prep\\lib\\site-packages (from httpx>=0.21.2->cohere) (1.3.1)\n",
      "Requirement already satisfied: h11<0.15,>=0.13 in c:\\users\\admin\\.conda\\envs\\interview-prep\\lib\\site-packages (from httpcore==1.*->httpx>=0.21.2->cohere) (0.14.0)\n",
      "Requirement already satisfied: annotated-types>=0.4.0 in c:\\users\\admin\\.conda\\envs\\interview-prep\\lib\\site-packages (from pydantic>=1.9.2->cohere) (0.7.0)\n",
      "Requirement already satisfied: pydantic-core==2.18.4 in c:\\users\\admin\\.conda\\envs\\interview-prep\\lib\\site-packages (from pydantic>=1.9.2->cohere) (2.18.4)\n",
      "Requirement already satisfied: charset-normalizer<4,>=2 in c:\\users\\admin\\.conda\\envs\\interview-prep\\lib\\site-packages (from requests<3.0.0,>=2.0.0->cohere) (3.3.2)\n",
      "Requirement already satisfied: urllib3<3,>=1.21.1 in c:\\users\\admin\\.conda\\envs\\interview-prep\\lib\\site-packages (from requests<3.0.0,>=2.0.0->cohere) (2.2.1)\n",
      "Requirement already satisfied: huggingface-hub<1.0,>=0.16.4 in c:\\users\\admin\\.conda\\envs\\interview-prep\\lib\\site-packages (from tokenizers<1,>=0.15->cohere) (0.23.4)\n",
      "Requirement already satisfied: python-dateutil<3.0.0,>=2.1 in c:\\users\\admin\\.conda\\envs\\interview-prep\\lib\\site-packages (from botocore<1.35.0,>=1.34.131->boto3<2.0.0,>=1.34.0->cohere) (2.9.0)\n",
      "Requirement already satisfied: filelock in c:\\users\\admin\\.conda\\envs\\interview-prep\\lib\\site-packages (from huggingface-hub<1.0,>=0.16.4->tokenizers<1,>=0.15->cohere) (3.15.4)\n",
      "Requirement already satisfied: fsspec>=2023.5.0 in c:\\users\\admin\\.conda\\envs\\interview-prep\\lib\\site-packages (from huggingface-hub<1.0,>=0.16.4->tokenizers<1,>=0.15->cohere) (2024.6.0)\n",
      "Requirement already satisfied: packaging>=20.9 in c:\\users\\admin\\.conda\\envs\\interview-prep\\lib\\site-packages (from huggingface-hub<1.0,>=0.16.4->tokenizers<1,>=0.15->cohere) (23.2)\n",
      "Requirement already satisfied: pyyaml>=5.1 in c:\\users\\admin\\.conda\\envs\\interview-prep\\lib\\site-packages (from huggingface-hub<1.0,>=0.16.4->tokenizers<1,>=0.15->cohere) (6.0.1)\n",
      "Requirement already satisfied: tqdm>=4.42.1 in c:\\users\\admin\\.conda\\envs\\interview-prep\\lib\\site-packages (from huggingface-hub<1.0,>=0.16.4->tokenizers<1,>=0.15->cohere) (4.66.4)\n",
      "Requirement already satisfied: exceptiongroup>=1.0.2 in c:\\users\\admin\\.conda\\envs\\interview-prep\\lib\\site-packages (from anyio->httpx>=0.21.2->cohere) (1.2.0)\n",
      "Requirement already satisfied: six>=1.5 in c:\\users\\admin\\.conda\\envs\\interview-prep\\lib\\site-packages (from python-dateutil<3.0.0,>=2.1->botocore<1.35.0,>=1.34.131->boto3<2.0.0,>=1.34.0->cohere) (1.16.0)\n",
      "Requirement already satisfied: colorama in c:\\users\\admin\\.conda\\envs\\interview-prep\\lib\\site-packages (from tqdm>=4.42.1->huggingface-hub<1.0,>=0.16.4->tokenizers<1,>=0.15->cohere) (0.4.6)\n"
     ]
    },
    {
     "name": "stderr",
     "output_type": "stream",
     "text": [
      "c:\\Users\\Admin\\.conda\\envs\\interview-prep\\lib\\site-packages\\IPython\\utils\\_process_win32.py:124: ResourceWarning: unclosed file <_io.BufferedWriter name=3>\n",
      "  return process_handler(cmd, _system_body)\n",
      "ResourceWarning: Enable tracemalloc to get the object allocation traceback\n",
      "c:\\Users\\Admin\\.conda\\envs\\interview-prep\\lib\\site-packages\\IPython\\utils\\_process_win32.py:124: ResourceWarning: unclosed file <_io.BufferedReader name=4>\n",
      "  return process_handler(cmd, _system_body)\n",
      "ResourceWarning: Enable tracemalloc to get the object allocation traceback\n",
      "c:\\Users\\Admin\\.conda\\envs\\interview-prep\\lib\\site-packages\\IPython\\utils\\_process_win32.py:124: ResourceWarning: unclosed file <_io.BufferedReader name=5>\n",
      "  return process_handler(cmd, _system_body)\n",
      "ResourceWarning: Enable tracemalloc to get the object allocation traceback\n"
     ]
    }
   ],
   "source": [
    "!pip install cohere"
   ]
  },
  {
   "cell_type": "code",
   "execution_count": 1,
   "metadata": {},
   "outputs": [],
   "source": [
    "from langchain.document_loaders import PyPDFLoader, CSVLoader\n",
    "from langchain.text_splitter import RecursiveCharacterTextSplitter\n",
    "from langchain.embeddings.openai import OpenAIEmbeddings\n",
    "from langchain.retrievers import BM25Retriever, EnsembleRetriever, ContextualCompressionRetriever\n",
    "from langchain.retrievers.document_compressors import CohereRerank\n",
    "from langchain.retrievers.weaviate_hybrid_search import WeaviateHybridSearchRetriever\n",
    "from langchain.chat_models.openai import ChatOpenAI\n",
    "from langchain.prompts import PromptTemplate\n",
    "from langchain_core.runnables import RunnablePassthrough\n",
    "from langchain_core.output_parsers import StrOutputParser\n",
    "from dotenv import load_dotenv\n",
    "import weaviate\n",
    "import os"
   ]
  },
  {
   "cell_type": "code",
   "execution_count": 42,
   "metadata": {},
   "outputs": [],
   "source": [
    "load_dotenv()\n",
    "OPENAI_API_KEY = os.getenv('OPENAI_API_KEY')\n",
    "os.environ['OPENAI_API_KEY'] = OPENAI_API_KEY\n",
    "WEAVIATE_API_KEY = os.getenv('WEAVIATE_API_KEY')\n",
    "WEAVIATE_CLUSTER_ENV = os.getenv('WEAVIATE_CLUSTER_ENV')\n",
    "COHERE_API_KEY = os.getenv('COHERE_API_KEY')"
   ]
  },
  {
   "cell_type": "code",
   "execution_count": 2,
   "metadata": {},
   "outputs": [],
   "source": [
    "loader1 = CSVLoader(\"./data/final_data.csv\")\n",
    "document1 = loader1.load()"
   ]
  },
  {
   "cell_type": "code",
   "execution_count": 5,
   "metadata": {},
   "outputs": [],
   "source": [
    "splitter = RecursiveCharacterTextSplitter(chunk_size=1000, chunk_overlap=200)\n",
    "text_chunks = splitter.split_documents(document1)"
   ]
  },
  {
   "cell_type": "code",
   "execution_count": 5,
   "metadata": {},
   "outputs": [
    {
     "name": "stderr",
     "output_type": "stream",
     "text": [
      "c:\\Users\\Admin\\.conda\\envs\\interview-prep\\lib\\site-packages\\langchain_core\\_api\\deprecation.py:119: LangChainDeprecationWarning: The class `OpenAIEmbeddings` was deprecated in LangChain 0.0.9 and will be removed in 0.3.0. An updated version of the class exists in the langchain-openai package and should be used instead. To use it run `pip install -U langchain-openai` and import as `from langchain_openai import OpenAIEmbeddings`.\n",
      "  warn_deprecated(\n"
     ]
    }
   ],
   "source": [
    "embeddings = OpenAIEmbeddings()"
   ]
  },
  {
   "cell_type": "code",
   "execution_count": 36,
   "metadata": {},
   "outputs": [],
   "source": [
    "PROMPT_TEMPLATE = (\"\"\"\n",
    "Use the following pieces of information to answer the user's question.\n",
    "If you dont know the answer just say you don't know, don't try to make up an answer.\n",
    "\n",
    "Context:{context}\n",
    "\n",
    "Only return the helpful answer below and nothing else\n",
    "Helpful answer\n",
    "Question: {question}                   \n",
    "\"\"\"\n",
    ")"
   ]
  },
  {
   "cell_type": "code",
   "execution_count": 37,
   "metadata": {},
   "outputs": [],
   "source": [
    "prompt_template = PromptTemplate(input_variables=[\"context\", \"question\"], template=PROMPT_TEMPLATE)"
   ]
  },
  {
   "cell_type": "code",
   "execution_count": 14,
   "metadata": {},
   "outputs": [
    {
     "name": "stderr",
     "output_type": "stream",
     "text": [
      "c:\\Users\\Admin\\.conda\\envs\\interview-prep\\lib\\site-packages\\weaviate\\warnings.py:162: DeprecationWarning: Dep016: Python client v3 `weaviate.Client(...)` connections and methods are deprecated. Update\n",
      "            your code to use Python client v4 `weaviate.WeaviateClient` connections and methods.\n",
      "\n",
      "            For Python Client v4 usage, see: https://weaviate.io/developers/weaviate/client-libraries/python\n",
      "            For code migration, see: https://weaviate.io/developers/weaviate/client-libraries/python/v3_v4_migration\n",
      "            \n",
      "  warnings.warn(\n"
     ]
    }
   ],
   "source": [
    "client = weaviate.Client(url=WEAVIATE_CLUSTER_ENV, auth_client_secret= weaviate.auth.AuthApiKey(WEAVIATE_API_KEY), \n",
    "                         additional_headers={\"X-OpenAI-Api-Key\": OPENAI_API_KEY},)"
   ]
  },
  {
   "cell_type": "code",
   "execution_count": 15,
   "metadata": {},
   "outputs": [
    {
     "data": {
      "text/plain": [
       "True"
      ]
     },
     "execution_count": 15,
     "metadata": {},
     "output_type": "execute_result"
    }
   ],
   "source": [
    "client.is_ready()"
   ]
  },
  {
   "cell_type": "code",
   "execution_count": 16,
   "metadata": {},
   "outputs": [
    {
     "data": {
      "text/plain": [
       "{'classes': []}"
      ]
     },
     "execution_count": 16,
     "metadata": {},
     "output_type": "execute_result"
    }
   ],
   "source": [
    "client.schema.get()"
   ]
  },
  {
   "cell_type": "code",
   "execution_count": 20,
   "metadata": {},
   "outputs": [
    {
     "data": {
      "text/plain": [
       "{'classes': [{'class': 'SAG1',\n",
       "   'invertedIndexConfig': {'bm25': {'b': 0.75, 'k1': 1.2},\n",
       "    'cleanupIntervalSeconds': 60,\n",
       "    'stopwords': {'additions': None, 'preset': 'en', 'removals': None}},\n",
       "   'moduleConfig': {'text2vec-openai': {'baseURL': 'https://api.openai.com',\n",
       "     'model': 'ada',\n",
       "     'modelVersion': '002',\n",
       "     'type': 'text',\n",
       "     'vectorizeClassName': True}},\n",
       "   'multiTenancyConfig': {'autoTenantActivation': False,\n",
       "    'autoTenantCreation': False,\n",
       "    'enabled': False},\n",
       "   'properties': [{'dataType': ['text'],\n",
       "     'indexFilterable': True,\n",
       "     'indexSearchable': True,\n",
       "     'moduleConfig': {'text2vec-openai': {'skip': False,\n",
       "       'vectorizePropertyName': True}},\n",
       "     'name': 'content',\n",
       "     'tokenization': 'word'},\n",
       "    {'dataType': ['text'],\n",
       "     'indexFilterable': True,\n",
       "     'indexSearchable': True,\n",
       "     'moduleConfig': {'text2vec-openai': {'skip': False,\n",
       "       'vectorizePropertyName': False}},\n",
       "     'name': 'source',\n",
       "     'tokenization': 'word'},\n",
       "    {'dataType': ['number'],\n",
       "     'indexFilterable': True,\n",
       "     'indexSearchable': False,\n",
       "     'moduleConfig': {'text2vec-openai': {'skip': False,\n",
       "       'vectorizePropertyName': False}},\n",
       "     'name': 'page'}],\n",
       "   'replicationConfig': {'factor': 1},\n",
       "   'shardingConfig': {'actualCount': 1,\n",
       "    'actualVirtualCount': 128,\n",
       "    'desiredCount': 1,\n",
       "    'desiredVirtualCount': 128,\n",
       "    'function': 'murmur3',\n",
       "    'key': '_id',\n",
       "    'strategy': 'hash',\n",
       "    'virtualPerPhysical': 128},\n",
       "   'vectorIndexConfig': {'bq': {'enabled': False},\n",
       "    'cleanupIntervalSeconds': 300,\n",
       "    'distance': 'cosine',\n",
       "    'dynamicEfFactor': 8,\n",
       "    'dynamicEfMax': 500,\n",
       "    'dynamicEfMin': 100,\n",
       "    'ef': -1,\n",
       "    'efConstruction': 128,\n",
       "    'flatSearchCutoff': 40000,\n",
       "    'maxConnections': 64,\n",
       "    'pq': {'bitCompression': False,\n",
       "     'centroids': 256,\n",
       "     'enabled': False,\n",
       "     'encoder': {'distribution': 'log-normal', 'type': 'kmeans'},\n",
       "     'segments': 0,\n",
       "     'trainingLimit': 100000},\n",
       "    'skip': False,\n",
       "    'vectorCacheMaxObjects': 1000000000000},\n",
       "   'vectorIndexType': 'hnsw',\n",
       "   'vectorizer': 'text2vec-openai'}]}"
      ]
     },
     "execution_count": 20,
     "metadata": {},
     "output_type": "execute_result"
    }
   ],
   "source": [
    "client.schema.get()"
   ]
  },
  {
   "cell_type": "code",
   "execution_count": 22,
   "metadata": {},
   "outputs": [],
   "source": [
    "retriever = WeaviateHybridSearchRetriever(client=client, \n",
    "                                          index_name=\"SAG1\", \n",
    "                                          alpha=0.5, #param to balance b/w keyword and semantic search\n",
    "                                          text_key=\"content\", \n",
    "                                          attributes=[], \n",
    "                                          create_schema_if_missing=True)"
   ]
  },
  {
   "cell_type": "code",
   "execution_count": 23,
   "metadata": {},
   "outputs": [
    {
     "data": {
      "text/plain": [
       "['43a6c19f-84cc-4477-986a-b709ada5522e',\n",
       " '4470fc94-acd9-42f2-8acd-669eeccb70e4',\n",
       " '30d35753-19e0-45a4-9433-0607cd4ca5ec',\n",
       " '73d8ffbc-31ce-43aa-834c-6e5457f6d019',\n",
       " '2af7a8f8-6032-41b3-bc68-c7e58fd705b7',\n",
       " '8327b890-4458-49d9-ab7e-a14de3593282',\n",
       " '613ee495-a3c9-4644-bdb4-199c70351acb',\n",
       " '9baef35d-66b6-47f0-8ed2-285a9efb6729',\n",
       " 'dff79c76-b5c1-479c-b3f5-c3c316e4e377',\n",
       " 'a8ebf901-57a9-418f-81a9-dee997ec74ec',\n",
       " 'f7bf6200-a46c-4a35-9db8-97da3e9b8bed',\n",
       " '95326e29-976c-43c6-80aa-ed82f61f3136',\n",
       " '56e87b04-7ad2-448d-bac1-a886429433f9',\n",
       " '0b3390ed-df51-4450-9a79-265f6af6607b',\n",
       " '2e4ec107-faee-4114-b303-3c6ca0c797e7',\n",
       " '410a7d3c-1520-4554-bc8b-b8a3c1d42c6e',\n",
       " '5b3fb08b-8386-41d3-abd8-0854faca8509',\n",
       " 'cb980819-b28b-4837-afd2-0093fe8d27b0',\n",
       " '210d16bc-58b0-4fa5-b33b-a68f53559483',\n",
       " '67932173-9c38-4b18-a984-fca4e0e67c21',\n",
       " 'e744b03b-0778-4942-be0d-f74e0c32bb46',\n",
       " '71639387-0f26-48ef-b34f-8f5d5c00fe80',\n",
       " '20f9646c-7768-459d-b715-9d171c669656',\n",
       " '628bfbbe-4441-4f85-bd15-fee22f8ec15a',\n",
       " '34d2a1d7-8e14-4f33-9c3f-e8eb12163fa9',\n",
       " 'fe67d6d6-6678-4a1d-928b-e8d870281866',\n",
       " '03c7a050-4735-4379-90a3-dcb1f334ec90',\n",
       " '25ecf502-24e9-472f-be12-1fb2bfde8c15',\n",
       " 'ed2652a0-e948-441e-9ca3-fdeb855c0ec1',\n",
       " 'c896c580-939a-42b0-8c6c-29bcf83983b5',\n",
       " '9e7b536a-4abf-43d5-82a4-615cd4598050',\n",
       " '78d92969-1bf3-4a1f-bf4b-e7ad1118fc74',\n",
       " 'ad6051c6-a7f9-417d-9616-85130b877236',\n",
       " '0594e192-1935-4baa-9f21-bc8e22ddf2fe',\n",
       " '45f809d7-1116-4066-8a9b-b67a524221c0',\n",
       " '329a87e6-f769-45a0-a37c-6786eb81c923',\n",
       " '4316070c-868b-49f7-89c1-90b588aca6b7',\n",
       " '173896d8-bcae-4a5d-9792-bd6f315fab75',\n",
       " 'f917e279-d68e-4ec8-b563-6497577388f4',\n",
       " '5d381ce9-afc7-43be-ac78-be334223946a',\n",
       " '1bd5586b-0e3c-44a4-883d-ce9dc61eeffd',\n",
       " 'faa7041f-1863-4f85-b916-8edce42e29da',\n",
       " '1716f971-958b-47cb-98e3-09a052973608',\n",
       " 'a8acd82b-d2cb-4bdb-92ae-317c65d40c33',\n",
       " 'afed9962-dfe1-4a7d-bb96-b56143fb0b08',\n",
       " 'bd32e0e2-1d4f-47a0-b85c-26350462ca01',\n",
       " '30541b56-3b87-494e-b7e6-6e2adea68db5',\n",
       " '40c2e2a7-3bc2-4afb-8f21-2315be9a9fd6',\n",
       " '9bd2aa4e-8ea4-4a90-afbc-009ca1f7d764',\n",
       " '3f19ca38-db0e-4826-af93-1283f4f97ecd',\n",
       " '23754ed4-971b-4ba5-9df9-0bdcf47be23d',\n",
       " '2ef48836-1ebd-4a12-b902-588eba9aae54',\n",
       " '11dabc1c-2e62-4c7a-a257-9103dfddb0be',\n",
       " '469a0120-d349-4658-ac65-af2962fbf555',\n",
       " '76d2479a-f565-485d-91be-9b1c8974d038',\n",
       " '9bea1038-30e0-49c3-bb57-9d7b9287e3e7',\n",
       " 'edb3da1e-81bd-4c31-bc59-5092bf0aa853',\n",
       " 'dbad9192-33d9-42d6-9217-2803babfa9b7',\n",
       " '7e8bde24-3ef0-4730-ba93-dc1b217b25ea',\n",
       " '766182f1-25dd-4cd1-a238-7e167b0d4d4e',\n",
       " '6a603a02-02a0-4155-ae65-05bb083a93d4',\n",
       " '190991bc-bbfe-487f-be31-dfab8e405cdf',\n",
       " '461216be-66f8-4185-a2af-ecd96926cb90',\n",
       " 'b12e4560-12a2-4672-9763-922087306520',\n",
       " '02344f45-bbbd-49ec-b046-1567ad3e713c',\n",
       " '14c12092-0105-4c49-ba0e-885069fcf739',\n",
       " '4fa5b262-708c-44d4-8062-f228b9050266',\n",
       " '64c98e55-a633-4e8a-85f9-e5389cafc21a',\n",
       " '8b3e6b8d-793c-49e5-ada9-37f05492f5d6',\n",
       " '5275f764-daaa-4a3e-9ff4-349d6112a742',\n",
       " '49e65125-878f-4169-a478-94640059fefc',\n",
       " '64c76843-e259-45eb-a368-c52cee7e8bf2',\n",
       " 'd049334f-61ad-42a7-be41-37f36598737b',\n",
       " '98beed31-90c2-4359-a4f6-495b5ffbc2e8',\n",
       " 'ff1b1dde-cc9e-49c0-82fe-c7142c714eee',\n",
       " '5e283630-b0a2-4ef0-90ed-4aa7ba8a98a1',\n",
       " '32e2e72f-a363-47a8-8962-2268ad90881c',\n",
       " 'd0bd84db-3202-4966-b148-3faeded069c8',\n",
       " '3da2b95c-9863-45ce-8774-b46d6e74c02a',\n",
       " '6ae72cbe-32bd-4c26-95b0-5c73d398fb81',\n",
       " '3e72e8f8-e8a4-4c51-b7d4-417974554c9e',\n",
       " '3a381453-d405-4c19-8cd2-9e6a0f4bb96c',\n",
       " 'a3d199f4-d98d-4b67-900b-ad21e9510ce6',\n",
       " 'd8fb0054-df97-43d6-8e84-5e73b6c031fc',\n",
       " '11b6698d-9c12-404d-9e48-0428545c3b60',\n",
       " '05ace9bf-ecca-4ab6-b2b8-1425e679d0f9',\n",
       " '49917575-a74e-4db2-b2a5-2e8087cd57c5',\n",
       " 'bb94e39f-3619-4ff4-b700-1e8217f83c48',\n",
       " '3cfe6f98-f4ec-4d6f-803b-21277010f6f7',\n",
       " '0b4adade-5882-4e2c-aa21-858c8c395422',\n",
       " '2c9b5f39-adea-4114-90d5-cd679e516626',\n",
       " 'b0a06906-11ff-4e17-b22a-bbb6dabd8fc4',\n",
       " '2504a625-f1a8-44f2-bc15-0a6319cdac68',\n",
       " 'a74f9758-4d76-40b7-b4eb-51dbb29f3ec4',\n",
       " '50031780-919f-47af-a1b9-b22415fb9fc1',\n",
       " 'ca36d159-9ef6-4a5c-b272-ad9dc1678664',\n",
       " '69ef2734-b1b0-4ef9-b4bb-c4d518d19ccf',\n",
       " '3ff4b659-8811-410e-802f-7bd2b742786e',\n",
       " 'cd96296b-3b43-46e4-b2c0-6f4ce1570752',\n",
       " '936debf9-c588-4460-b02e-023298846095',\n",
       " '7d87962f-f60d-48fc-a6d8-da254a5e0364',\n",
       " '0e601252-0323-49b0-a6dd-3a6960ee38af',\n",
       " 'a335990a-d65c-44c8-a5f6-e70509655706',\n",
       " 'c3e7ac44-bbc8-4cdb-b32a-b1b1aa3b362d',\n",
       " 'b670557b-c943-4b59-85c7-fa7d1e2c3166',\n",
       " '1177c7cf-05d1-4b5a-af3c-4ccd0b36fbf9',\n",
       " '37cb3d12-f3b4-40c8-9799-026d17532331',\n",
       " 'ffba345b-e867-4d1e-bba0-141b443fcd40',\n",
       " 'e98521e2-b78b-4dd6-97b5-5075f87e4c51',\n",
       " 'b6bb9fb5-be15-4eb5-a0b6-767242de6d8e',\n",
       " 'a0bfc2fc-0b5f-4cbf-81b1-a019323bfc27',\n",
       " 'a3505705-edc4-496b-ab8c-1f47f7bee9fc',\n",
       " '9a560a15-e167-47f0-acc5-2daaa17025f4',\n",
       " 'fe6257c8-e6f8-4b1d-a509-855e9427d05c',\n",
       " '0ba5debe-3921-444a-a0c5-6ca9f686bc3b',\n",
       " 'b1aaa950-095a-4b59-8434-70d80e993ca2',\n",
       " 'aedb94af-a14e-4d1d-bd8d-9a2cadd1551d',\n",
       " 'e274ff0c-fbb1-4505-9dc0-1a96e004b1a5',\n",
       " 'cb81b483-b742-409f-9e32-989361ac3862',\n",
       " 'd53354ce-0f6a-4736-852c-ee0e37eb9f41',\n",
       " '8843a77f-0dfb-445d-b93a-e5faa474db91',\n",
       " '83212353-a09e-44a6-9e8f-f9ef8c48913f',\n",
       " '1746fddf-01d8-4413-ae4e-296b5242b4cb',\n",
       " '6eda2014-8b23-4dbb-9d0d-03294f279030',\n",
       " 'cf911540-b02c-4bb8-8700-c1b9489e76a3',\n",
       " '99b58924-adb4-4ca3-8f2b-20f5c534243a',\n",
       " 'dc44ec12-81f2-409a-95bd-8af0fa7c30a9',\n",
       " '8e6ff5f2-5348-4c8f-bd24-92518f7753a7',\n",
       " 'cbd8eb78-e00a-4e6e-85a8-ff54f653d7a0',\n",
       " 'a53386bf-0dcf-4965-afd6-c60b354941a5',\n",
       " '92880813-08ac-4244-be9e-fbc41c09488d',\n",
       " '7b572578-add2-4619-81fe-14d0ca595c4d',\n",
       " '423d40f6-fafd-43dc-9452-ffc70201ff86',\n",
       " '67663f1e-7c7b-43ba-975c-307620d6d274',\n",
       " 'a8282807-680c-44ec-a586-d7b5c6613ebf',\n",
       " '9944c264-7fe5-4c54-aac8-f86da3de9a85',\n",
       " '5da0a38b-62da-4e9b-9bd1-7736838a9ae9',\n",
       " '2eca7e1d-f852-4e34-8c70-9120b9e12160',\n",
       " '141e7d7d-7f2a-4f29-92c6-0f12096b9e03',\n",
       " 'b9ab7ac3-f2d1-4d0b-b7ad-11b16134f37e',\n",
       " '985fac2b-5cf9-4ce5-8b1f-629e18a3a509',\n",
       " 'cad6421f-52d8-43a6-a0db-961be71ced82',\n",
       " '2361c2d2-3df2-4a1f-99e4-b81bc83e2e5e',\n",
       " 'dc0aae21-1ddf-476d-b616-1a428636a897',\n",
       " '2ef297cb-f094-49c2-ab2c-f5304adc3130',\n",
       " '807886a4-e48f-4932-87dc-ca714ab1d04a',\n",
       " '6a022266-ef8d-45ef-83e1-b8e701e6b9bb',\n",
       " '5ec11b7f-96e5-4db3-a72a-b1972d3680f9',\n",
       " '4c611886-fed6-49b4-9596-6da9a8c075de',\n",
       " '56bf7611-09a4-46be-9f18-8ea8c12e8565',\n",
       " '46ab1578-b725-47e1-b75a-c7c69a635e35',\n",
       " '14854efa-0772-4d14-b0b7-90d0c95a2fb7',\n",
       " '20a4adfc-439d-48db-a71d-0948bd2ac52e',\n",
       " 'e1d3e696-6fff-4c58-a57b-78d7e6a5bb8b',\n",
       " '79deb55e-3d7e-46e1-943e-2f9b3c234ead',\n",
       " 'ec7a0af7-68f2-4011-8625-7737c0651a66',\n",
       " 'c31f5921-cc20-4c34-944c-82ae8e77d531',\n",
       " '614e16e8-9f02-4024-934e-7588db376b71',\n",
       " 'a9421a77-81bb-4895-b030-7628dc1d8bc9',\n",
       " 'bd5c9aa4-70d3-4b64-83a2-1d011b08930a',\n",
       " '5e3f544c-10d4-4ed4-9892-dfcba3276c5d',\n",
       " 'd868a5f4-276c-4029-9c2e-879271950b35',\n",
       " '389f5414-2e99-43bb-84ea-2c7bb3821f7f',\n",
       " '0ec2e736-ce94-44a7-a246-49098d4f73fb',\n",
       " 'db594c13-3a62-4b12-a49c-af62fd73aeb7',\n",
       " '6a90741f-74a9-421c-8721-4401f6d16316',\n",
       " '77b4e4c3-358d-49a3-9b27-ae6e1cd4c056',\n",
       " '5fdadbf5-1cab-40b9-b92f-eb5883acda04',\n",
       " '0b5a495e-7205-4f8d-98cf-5f626ccec5b0',\n",
       " 'd782ceaf-308c-4a3c-98f8-df4619f622d0',\n",
       " 'd674c178-6664-473e-a199-f2b2ebabae3d',\n",
       " 'b5cd16d3-b479-40a3-b901-5ed0857ccd51',\n",
       " '0f18af3a-fddd-4bbf-b5bb-3ac7dc8d9e0f',\n",
       " '1497673e-5439-4d11-b944-aa8a53df6de5',\n",
       " '90c0bcdc-586c-44be-91e5-229e4776e210',\n",
       " 'c1aff84e-0c17-4143-b037-dc06b67a4441',\n",
       " 'a552cf4a-4421-4bb7-ab4d-0c880852c67d',\n",
       " '0c4d0db3-be36-488b-a674-d9d4ac34535a',\n",
       " 'e07bc62c-35f6-45e0-a94d-5a387e1678ac',\n",
       " '5e49d6fb-d26b-4cc2-9f77-92bbb852e762',\n",
       " '73951146-e408-48d2-b167-fcd2d31cb75e',\n",
       " '7b6d772b-101a-4baa-a257-02662c2cfce1',\n",
       " 'afd15171-9ccd-46a0-9135-9803cf24f33f',\n",
       " 'aedb100c-fd5c-46f5-a9a4-165af7139c45',\n",
       " '6f75c3ee-5eb3-43ff-b821-495662bf867a',\n",
       " '2e203677-3071-42df-8fb5-4fee6dcea936',\n",
       " 'c01be443-c19b-424a-8f82-a527cd8f5df9',\n",
       " '3d8ad8f6-f70c-49c9-91b0-3848946f451b',\n",
       " '562f3651-222d-4f1a-a286-2f53995e3dee',\n",
       " '142710a6-e68c-4251-82c0-8cfdc89d8d43',\n",
       " '95bf9d55-8585-41dc-ab99-acf1efe6e5c0',\n",
       " '5603a9d5-ade4-4191-8c7e-8afd284d8507',\n",
       " '92a7574c-e44d-4852-bc7d-53b0c625696a',\n",
       " '1b38b744-2b89-472c-b97e-cfe199cfd443',\n",
       " '1a8baac6-627b-4c10-b706-8b8faa1cb9ae',\n",
       " '72449ecd-0b7a-4fd9-9b77-c597bdc12276',\n",
       " '1d395286-c5d0-41c2-ab67-95d817a9f0a1',\n",
       " '8c50026d-43fa-461b-a68a-cd97c46ec2f5',\n",
       " '4e8cdab6-cd34-4c74-a5d5-f87753d1c21c',\n",
       " '4caee3a8-e161-4fb2-9cb8-11ec4d9a6722',\n",
       " 'a156f5c5-d691-40ac-8f4c-7101f22532e5',\n",
       " '7a38bc87-3ffd-4aa9-8eb5-5b5a1f3f3375',\n",
       " 'b546f726-ec5e-4930-b800-9f455924c40b',\n",
       " '475a50d9-7104-480b-bfe7-1d35ff097398',\n",
       " '9ebace35-0865-4516-baa3-1e07ff5e0566',\n",
       " '6874d769-af1a-4c1e-aa41-d9d6dbb85542',\n",
       " '0b516a83-f230-4cf9-89ea-d7c18f689e5a',\n",
       " 'e5b2a9b6-6864-4812-9888-071a7927c2b7',\n",
       " '1c10850a-4ece-470b-b081-e32ca8b60a26',\n",
       " '5ca62712-913d-469f-bfe6-7a21945cf496',\n",
       " '13662e64-ec0f-4f7d-a5dc-67f6140803fd',\n",
       " 'b193551f-8103-448e-9da9-763131bef9a6',\n",
       " '03b98733-2164-4219-8cbb-15256add41c9',\n",
       " 'b132200b-a827-4af6-b1df-28b591285624',\n",
       " '06b04264-df54-4e25-a979-b4ded814a6ad',\n",
       " '971e001e-4c28-4ccc-ae7a-c51806e8bcf1',\n",
       " '5e2f9dd1-9ab4-46b1-99ec-e2bcbf6d9c01',\n",
       " '47a5c8bd-b16c-4914-b100-a809b2f0e48f',\n",
       " '311d9032-c597-4cda-9796-1c462296396c',\n",
       " '8261bc62-6ad7-45b1-aa7d-1c175c72e827',\n",
       " '5a273d6d-7326-4f82-8c6a-30d00c6f80db',\n",
       " 'ab033c5c-310d-46bc-befb-60d0efd94c06',\n",
       " '755f5804-e488-440e-8687-c6fd00d05278',\n",
       " 'e7ad5e80-7495-44cb-bc20-1369edef9bb3',\n",
       " '464741b3-9bfb-4327-a1a5-7409525c816e',\n",
       " 'e10867da-6725-47f4-85e2-50c3cc85f5a2',\n",
       " 'c5adb60d-eebf-462e-b766-239e02a2bfc7',\n",
       " '29b8fc7a-0d3a-4e1d-8f2f-c177a70aab48',\n",
       " '18b830b8-24d9-400a-a611-3b7e561423a1',\n",
       " 'f3aa713d-6da8-4a0c-88cb-d2d5adfec46d',\n",
       " '1c61bfa4-4e16-45f4-bc2b-ca8e069f2113',\n",
       " '5e8e4a36-1163-46c9-885a-f2bedbac2512',\n",
       " '5211ecf9-0fd3-418d-923e-a3c950ce4899',\n",
       " '88c05b0c-515d-47cc-8da2-e3c1c02d14e5',\n",
       " '90cbbc27-a0be-41b0-9598-b43f3510f082',\n",
       " 'f7f16afb-ed2c-4f9b-ba36-871b99bc1cf9',\n",
       " '93105b16-fb51-495a-a38d-d9c31f90f8d6',\n",
       " '63671b67-fbc4-4afc-9b75-87bbc2250ef8',\n",
       " 'f1330135-dfe2-44b3-86aa-2592d804b3b0',\n",
       " '16fad754-2e4e-49e2-a9e6-5abd36abcdea',\n",
       " '79b15dbb-2bc5-4325-8a7d-3d770de28999',\n",
       " 'f8ba20f8-59e2-40c0-852e-75fcbbf421c9',\n",
       " '3d5d34d8-a52d-492f-b3f7-e52469caa842',\n",
       " '5fbf3867-5589-4242-b2f7-eb24af2f5e49',\n",
       " '23d1f505-d3e4-458e-aae2-280fe4458272',\n",
       " 'a458f7d2-aa21-4f7f-bdda-c96640e22261',\n",
       " '82ee8ee1-e0bc-4d7d-b4a2-bf56f3d76b8b',\n",
       " '1cdd8ee6-f347-4e2a-b5cc-25babdd3f3a4',\n",
       " 'b2b8ecb7-ac89-425b-b3a6-1ace372acf8f',\n",
       " 'e8b41ffd-7ef8-4240-aa9b-03d531fff562',\n",
       " '97219616-8544-42ff-8f58-62f32b6ba43f',\n",
       " 'fe6ff90e-d3a7-4804-9914-2afcc726020f',\n",
       " '599d3f3f-6576-4554-b25e-5da6617020f8',\n",
       " '55fb7559-e244-40d4-9bee-654e12af8021',\n",
       " '15a33788-4ec8-4b8b-b0ce-aceecd8b0208',\n",
       " 'c5370c38-ac32-4c97-a146-0ae1ca41c61f',\n",
       " '29f6688e-9e9c-4d88-a6ac-e6f0a1edbf00',\n",
       " '213b9db5-bfdc-4bad-9c15-cb4b2b6073ca',\n",
       " '7f016d12-273a-4243-8416-ed5bad019702',\n",
       " 'a11731ff-63a1-43be-a83a-4c2a51344cb1',\n",
       " 'ee8e238a-6fcc-4e2a-8b91-310e1bb0bba2',\n",
       " '82dbf1e9-63fb-4431-aae9-1509be19ce80',\n",
       " 'e1df7cdd-ed70-453a-b90d-80656483f39d',\n",
       " '53e99245-2a55-49e7-aea4-999fc8f6e234',\n",
       " 'a5d6fbb9-95cf-4388-9ec4-65d86daddda5',\n",
       " '5c60401c-af30-4dfc-b08f-06847f907fae',\n",
       " '280981b7-bff1-4bd1-8158-9fa5956bd336',\n",
       " '4bb16faf-afe6-499c-ad6c-15f95a7348f5',\n",
       " 'c6d9d193-148f-452a-a5ec-89cf31817ea5',\n",
       " '69a85d9a-822b-4560-b69c-a400a85f97b0',\n",
       " '462b90c5-820b-4e9d-b0c2-faae2b6fe806',\n",
       " '2a4c4bdf-0650-4f1f-aff1-c6ab5a6c3ac7',\n",
       " '6c025bb5-6a74-4593-9d84-d03ad3ce45d1',\n",
       " '3492f134-5e7b-4041-b7b7-6e6ece94c867',\n",
       " 'a9e4a521-123a-4764-b2f6-bc25228d644b',\n",
       " 'ded0151c-9341-41dd-81db-cc95b2346b51',\n",
       " 'f8af2eba-a8e8-473b-bd25-5fd8fce56524',\n",
       " 'bb81d7da-9893-4a9c-bbe5-604da7acb6e6',\n",
       " 'd905e657-1d1f-43c9-b054-63cbfb5bdc4c',\n",
       " '940fa1e3-b376-4268-b8d6-271299760ba3',\n",
       " 'e605bf89-b344-4bb4-a85f-5c8dafd58c53',\n",
       " 'afd9aa9c-a304-4d98-802f-70aba0c987b2',\n",
       " '6afba2fd-ac6e-478d-8d55-359b645d1544',\n",
       " '31912f37-0fc5-44f5-bb71-73dd6b8234ff',\n",
       " '49de617c-8ef5-4c14-85c1-aa9e2579b8da',\n",
       " '3437b517-e697-4f35-8a27-285dcc3eb12d',\n",
       " '7507226e-e884-4898-8559-930d422a04ce',\n",
       " '25fabd61-575d-4b6c-bbff-343085bf352a',\n",
       " '0c645c23-ccfd-465e-b8e3-b1f5f246df9e',\n",
       " 'fbbae4cd-0bfb-4c11-9622-87553ed72148',\n",
       " 'acd53f76-6c4f-4097-ade3-939360ce4fa3',\n",
       " '89c188ea-b1cf-44e3-8a13-7356d30e5929',\n",
       " 'a28e4e16-0bf3-43ea-8868-b925cd32af56',\n",
       " '65e51cbe-8abc-4963-8a6a-9df7ec05a7f8',\n",
       " '99d66c9b-017c-44c2-83fc-616279d2289b',\n",
       " 'f55dd626-301c-49df-99a5-c3f9f0eb89c0',\n",
       " '90b6b203-964e-4c12-bfc6-d343d61f7b80',\n",
       " '5563acc3-bb4d-493b-84af-5c038ebd2e51',\n",
       " 'f151255a-c0f8-4707-ac35-4b4b4855956d',\n",
       " 'd5e38e30-3a61-420d-a47a-a126e5877bb9',\n",
       " '12cf21de-0b55-4e74-9748-469b104cd194',\n",
       " 'e77be0d3-020a-4f1d-b034-26db4a28f3a5',\n",
       " 'ecb5c6bf-fff0-41e6-a8b3-28c69fae78ed',\n",
       " '2d930902-8565-4f64-ba92-648be70358f0',\n",
       " '61eac8b7-ee92-42fc-af6f-4e4dce9d5b7b',\n",
       " 'e78b0a87-0c26-491b-a0fe-ec7d71b88246',\n",
       " '68646e3d-9f71-4ef4-93c5-55ecba195cab',\n",
       " '5cfc3b5f-385e-4734-9d55-f4d8de2f0da7',\n",
       " 'f5f27d3d-48e5-4de2-8d5a-46e6decbd0e5',\n",
       " 'b3c9d9ac-4f35-4d6c-9aad-f2475ae73cbd',\n",
       " '616e865a-dea8-423c-925c-6c1061751dfd',\n",
       " '091400c0-eebb-4e39-b1ae-eea88e47d937',\n",
       " '4a773711-f43d-4bc1-a722-5d084f43f012',\n",
       " '7474e7e4-089a-4f0a-81d1-783dd7a717fd',\n",
       " '12d514ec-1181-47a8-a8b8-ce0b82c0a210',\n",
       " 'a1a1e64b-364c-464e-8294-ab5b24faf818',\n",
       " 'bf380a02-5678-429e-910c-d0a477e35922',\n",
       " '5eea3808-a689-45a7-8c60-b5ae8a307446',\n",
       " 'dfcfce3e-3198-4ae7-a9cf-d238d5b64cd0',\n",
       " '199bebca-868a-435a-9e84-73b7bc664d98',\n",
       " '9a224534-de1c-4f07-9e3d-4ef581a0e912',\n",
       " '811b0427-40f8-40c1-ad5e-d553b3a6e570',\n",
       " 'd98a82bd-0b74-4b0e-96d1-70afba26ce85',\n",
       " 'b33b47e0-e934-475a-aaf9-b378a0fd168e',\n",
       " '21c0b1b6-e9f3-403b-bc5a-0d00cc973436',\n",
       " '6ebb977a-40e9-4266-a275-392df2b61790',\n",
       " 'a4ff9cf0-38c2-4b25-804c-8836470f928f',\n",
       " 'a1618e74-39c0-4978-aa64-8ada602de141',\n",
       " 'cdcf5095-0bc2-44ca-a0d6-224b29b50e25',\n",
       " 'c0d6306e-ae6f-40df-8dbb-d490ee171a9b',\n",
       " '918bb753-2228-4d71-a52b-c974e4201e6e',\n",
       " '0ab0dd74-79ab-4175-9170-cd763dd511c2',\n",
       " '2b120172-d74c-4ea3-a080-7423cd94aaf3',\n",
       " 'fd3dafa3-6446-40e2-a58c-f302e66d5a96',\n",
       " '259091f7-b050-4900-ae7d-88a6c8e94216',\n",
       " '7a92a1ef-7534-4878-8288-15a53c391077',\n",
       " '6322adc9-3284-4b0d-b423-e2e263c6ce87',\n",
       " 'e0ce46af-630e-4e56-9eb5-777e75d09dc0',\n",
       " '94203132-e485-4c6d-bf3b-33c9e064e6e2',\n",
       " '1d687196-b403-4029-a054-d4c3b4455f13',\n",
       " '58c50c9c-5839-4031-a972-0f037f13002d',\n",
       " '89bed29a-5a9e-447d-9417-1d4c33c743b5',\n",
       " '291816b2-b679-4670-b7b6-70e0e61f9028',\n",
       " 'e4642f7e-2458-4428-a37b-aefa9fa53458',\n",
       " '7cdee66c-df2c-4b90-9626-6098aa3aee36',\n",
       " '6ef5e402-c158-45d0-b0d0-12796ee54f4c',\n",
       " '7b1cd1c5-0213-4d2f-b4e8-984cfdc3f14e',\n",
       " '03e69aa7-56ca-42c1-b599-60437a9205aa',\n",
       " '05fc868d-4be8-431d-b219-36f1635b4ab9',\n",
       " '5d7f66a0-efa9-4f45-a789-5d46e1d88164',\n",
       " 'e89368b6-003b-47d6-b414-a06273433277',\n",
       " '6d38e3cd-5ae6-40bc-ac97-293a4ca5340b',\n",
       " '2fd58049-f6d1-4812-b506-523509042cf4',\n",
       " 'c78303dc-44cd-41f7-bf02-9b0a903df026',\n",
       " 'b70a0420-f0a7-482d-b2ea-a091f49e2d38',\n",
       " 'f80d49cf-b0bf-479a-9abd-e38ed3b7b29e',\n",
       " '96573315-7cfa-4391-9bbc-c8781e91fd24',\n",
       " '15ebb315-3ae7-4196-9172-f6dfb39ee36c',\n",
       " '2fd99440-27f0-4e1f-93cc-8f0add9e4b65',\n",
       " '4c724bba-e044-444c-abb4-3c0a4bd02ba0',\n",
       " '5b24a0ce-f691-4174-80b6-6031ad8ec03f',\n",
       " 'd5443681-be55-4536-bd9c-8b8028dda540',\n",
       " '6325b4bc-7277-442f-a7a0-750d8eee3169',\n",
       " 'e2e6dd5f-8aa8-418a-8642-88790dafc458',\n",
       " '20749b59-b3d8-4568-89e8-94fc1c29a21e',\n",
       " 'd7af60e8-eabe-43c3-840e-e0056a19d1ce',\n",
       " '76436447-04ef-44a5-80cc-7193a8fee94e',\n",
       " '74e3492e-05b5-492d-bede-27a5c5048030',\n",
       " '72a43426-972c-44f5-911d-40c1bfb98c07',\n",
       " '1017af2d-470d-4369-ac47-5245482fc020',\n",
       " 'a9d88eb1-5010-4d86-b8fa-e41987ec6b6a',\n",
       " 'c0cd11cb-9514-4a0c-883c-d1a829fc91d7',\n",
       " '3f48388f-8769-41a5-9ca1-8be7e594d6b1',\n",
       " '4247770d-708d-469d-b52f-dc578bbb4039',\n",
       " 'cb3bc6a8-e8a8-4f81-95b5-827c144ea20c',\n",
       " 'efd48f31-74e0-4f50-ad4c-0c5eaa3308aa',\n",
       " '510c3e8e-2d45-47ea-aa8a-144924d20198',\n",
       " '8202afd2-afe4-4a46-8c2e-3868674801a2',\n",
       " '4eee5b6c-6c28-4b8f-8485-5b66df6b3754',\n",
       " '9709b5ec-1ca3-46e2-8cff-92066070d29d',\n",
       " 'f0643ba0-d4c2-4676-8122-cbb7d3b4e442',\n",
       " '67e331e3-716a-4974-bda5-df54f613a816',\n",
       " 'cd74cb6e-d9ea-428d-931f-51d47ab12e97',\n",
       " '3b98e2b4-1f3c-4ff8-a1ac-69c1b3599871',\n",
       " '6a6cdcd8-b55d-40de-aeae-94694bb773e7',\n",
       " '71fcfca8-1c52-4bee-ad81-53a4830c008e',\n",
       " '7ca8a117-8762-4f9b-b186-168fd51666d9',\n",
       " '1f077621-22cf-45ff-8365-1fbc1152b490',\n",
       " '011085b3-7570-4b18-ba3d-532c51306c75',\n",
       " '7e385d0f-fe40-4fad-a09e-a01646938850',\n",
       " 'ba7a5811-d052-4f4a-913b-70124d7292d8',\n",
       " 'f112fb18-3998-4130-9e59-68fdeb1e6b84',\n",
       " '659d7f21-41d6-461a-9d62-51bb743bcb56',\n",
       " 'e17eefe8-259b-4f3a-91b8-e9de94daeff7',\n",
       " '0faee0dc-12b7-4326-b7f4-e72d42567759',\n",
       " 'ba693b43-9232-4e05-8e08-2a2dd9d5f763',\n",
       " 'a2d081fd-6065-405d-b72f-07c473ef14b1',\n",
       " '3596aabc-d726-45e4-9a5a-1100bf9585d7',\n",
       " '01932570-be8c-456b-971d-1d504e8d391c',\n",
       " '453c7023-aafc-4004-9efe-3818c0671e34',\n",
       " 'e4a754ad-db3a-462e-89a8-92788a873888',\n",
       " '0403f0ce-38da-4a0d-9742-408927408d70',\n",
       " '43e08c8f-7633-47cf-8209-7d0aa5b3bc9f',\n",
       " '7fed5232-41f0-48cd-b7cf-3407b50ae44b',\n",
       " '7ae198bb-60a6-426e-affd-5527bcfd803c',\n",
       " 'daa1b3d8-1e14-4768-9586-e633189d58e4',\n",
       " 'd7239d1e-5dd5-4e07-8ce7-158f5d9f6ce9',\n",
       " '393d038d-2071-4f8c-ac70-651eedc64aa0',\n",
       " 'c80413cd-fb02-46d9-ab6f-1f6d86dbdae7',\n",
       " 'ad9bc131-c105-4846-8f36-bd013663e392',\n",
       " '1d951f0a-38b4-4546-81a3-6ad85f40503f',\n",
       " 'a9e18f21-bbd5-44db-b760-aebc8f165f37',\n",
       " '31f24074-caea-4f84-9644-bae91e79a2dc',\n",
       " '45805752-9555-42c1-b570-f36b7b17812c',\n",
       " '3bc68d5c-47b2-4621-960b-a92155bd6099',\n",
       " '52642f7c-9a67-4aa7-aa09-f8ae9a856db9',\n",
       " '64fa31bb-6d6a-4687-9cc8-d1d3b17507a8',\n",
       " 'e1474177-90fb-47f1-9eaf-64c1fe055061',\n",
       " 'd9a9e2af-4555-4172-a4dc-6f60e2fc8780',\n",
       " 'bf44a23c-d551-44fe-a569-8d95538e6038']"
      ]
     },
     "execution_count": 23,
     "metadata": {},
     "output_type": "execute_result"
    }
   ],
   "source": [
    "retriever.add_documents(text_chunks)"
   ]
  },
  {
   "cell_type": "code",
   "execution_count": 24,
   "metadata": {},
   "outputs": [
    {
     "data": {
      "text/plain": [
       "[Document(page_content='subject: Configuration for Requested Dates Mandatory during Change Create.\\ncontent: As part of the current CM B2B design “Requested Start Date” and “Requested End Date” is mandatory to create the CR irrespective of any change class and customer system need to send these two date/time values while sending the Cerate request. As per the OFR requirement these two date/time fields should not be mandatory to create the CR. So following changes need to be done in the existing design to fulfill the requirement.\\nIn the form “Eric:CustomerInterface” 5 checkboxes has been created as. Refer below screen shot.\\nNormal\\nEmergency\\nExpedited\\nNo Impact\\nStandard\\nFor any customer if Requested Start date and End date need to be set as “Mandatory” for a particular change Class then the respective check box need to be checked. By Default For CR Type Latent Requested Start Data and End Dates are mandatory.', metadata={'_additional': {'explainScore': '\\nHybrid (Result Set keyword,bm25) Document 3cfe6f98-f4ec-4d6f-803b-21277010f6f7: original score 13.308918, normalized score: 0.48113948 - \\nHybrid (Result Set vector,hybridVector) Document 3cfe6f98-f4ec-4d6f-803b-21277010f6f7: original score 0.87484396, normalized score: 0.5', 'score': '0.9811395'}}),\n",
       " Document(page_content='Requested start date and requested end date:\\nAn Activelink is written to focus and highlight the field in red,throw an error popup when Requested start date and requested end date fields are null as the change is moved to request for authorization state.\\nActual start and actual end date:\\nAn Activelink is written to focus and highlight the field in red,throw an error popup when Actual start date and Actual end date fields are null as the change is moved to Completed status.', metadata={'_additional': {'explainScore': '\\nHybrid (Result Set keyword,bm25) Document a9e18f21-bbd5-44db-b760-aebc8f165f37: original score 13.786153, normalized score: 0.5 - \\nHybrid (Result Set vector,hybridVector) Document a9e18f21-bbd5-44db-b760-aebc8f165f37: original score 0.8115492, normalized score: 0.27686128', 'score': '0.7768613'}}),\n",
       " Document(page_content='field bold ,the focus is moved to the field and it is highlighted in red colour Request for Authorization Need to make these fields bold and an Activelink needs to be written to focus and highlight the fields when they are null. Status Reason An Error is thrown when the field is null Pending and Closed status An active link needs to be written to focus and highlight the field in red. 1.Requested Start Date 2.Requested End Date An Error is thrown when the field is null Request for Authorization An active link needs to be written to focus and highlight the field in red when it is null. 1.Actual Start Date 2.Actual End Date An Error is thrown when the fields are null Completed An active link needs to be written to focus and highlight the field in red.', metadata={'_additional': {'explainScore': '\\nHybrid (Result Set keyword,bm25) Document c80413cd-fb02-46d9-ab6f-1f6d86dbdae7: original score 11.319525, normalized score: 0.40251783 - \\nHybrid (Result Set vector,hybridVector) Document c80413cd-fb02-46d9-ab6f-1f6d86dbdae7: original score 0.78133106, normalized score: 0.17033063', 'score': '0.57284844'}}),\n",
       " Document(page_content='Actual End Date\\nRequested Start Date\\nRequested End Date\\nRFC date\\nEarliest Start Date\\nFor Problem\\nTarget Resolution Date-PBI\\nKnown Error Created Date\\nWorkaround Determined On\\nFirst Reported On\\nNote :- This solution is not covering the scenario like If there is a member who belongs to the NOC India and currently following the IST time zone and NOC India is supporting the operation for company Moldcell-OF-MD, then on that case all the notifications that triggering to the members of the NOC india will not having the Timestamp value in IST time zone, It will be in “GMT+2:Bucharest “ timezone only. So this solution is not specific to the user level or not followed the User specific timezone as mentioned in the User preference form.', metadata={'_additional': {'explainScore': '\\nHybrid (Result Set keyword,bm25) Document d905e657-1d1f-43c9-b054-63cbfb5bdc4c: original score 8.955478, normalized score: 0.3090897 - \\nHybrid (Result Set vector,hybridVector) Document d905e657-1d1f-43c9-b054-63cbfb5bdc4c: original score 0.788846, normalized score: 0.19682376', 'score': '0.50591344'}})]"
      ]
     },
     "execution_count": 24,
     "metadata": {},
     "output_type": "execute_result"
    }
   ],
   "source": [
    "retriever.invoke(\"How to make Requested Start Date and Requested End Date mandatory in CR creation?\", score=True)"
   ]
  },
  {
   "cell_type": "code",
   "execution_count": 4,
   "metadata": {},
   "outputs": [
    {
     "name": "stderr",
     "output_type": "stream",
     "text": [
      "c:\\Users\\Admin\\.conda\\envs\\interview-prep\\lib\\site-packages\\langchain_core\\_api\\deprecation.py:119: LangChainDeprecationWarning: The class `ChatOpenAI` was deprecated in LangChain 0.0.10 and will be removed in 0.3.0. An updated version of the class exists in the langchain-openai package and should be used instead. To use it run `pip install -U langchain-openai` and import as `from langchain_openai import ChatOpenAI`.\n",
      "  warn_deprecated(\n"
     ]
    }
   ],
   "source": [
    "llm = ChatOpenAI()"
   ]
  },
  {
   "cell_type": "code",
   "execution_count": 54,
   "metadata": {},
   "outputs": [],
   "source": [
    "retrieval_chain = ({\"context\": retriever, \"question\": RunnablePassthrough()} |\n",
    "                   prompt_template |\n",
    "                   llm |\n",
    "                   StrOutputParser())"
   ]
  },
  {
   "cell_type": "code",
   "execution_count": 55,
   "metadata": {},
   "outputs": [
    {
     "name": "stderr",
     "output_type": "stream",
     "text": [
      "c:\\Users\\Admin\\.conda\\envs\\interview-prep\\lib\\site-packages\\pydantic\\main.py:1070: PydanticDeprecatedSince20: The `dict` method is deprecated; use `model_dump` instead. Deprecated in Pydantic V2.0 to be removed in V3.0. See Pydantic V2 Migration Guide at https://errors.pydantic.dev/2.7/migration/\n",
      "  warnings.warn('The `dict` method is deprecated; use `model_dump` instead.', category=PydanticDeprecatedSince20)\n"
     ]
    },
    {
     "data": {
      "text/plain": [
       "'Based on the information provided, it appears that in the existing CM B2B design, the \"Requested Start Date\" and \"Requested End Date\" fields are already mandatory to create a Change Request (CR). By default, for CR Type Latent, these dates are mandatory. Additionally, checkboxes can be used to set these fields as mandatory for a particular change class.'"
      ]
     },
     "execution_count": 55,
     "metadata": {},
     "output_type": "execute_result"
    }
   ],
   "source": [
    "response = retrieval_chain.invoke(\"How to make Requested Start Date and Requested End Date mandatory in CR?\")\n",
    "response"
   ]
  },
  {
   "cell_type": "code",
   "execution_count": 43,
   "metadata": {},
   "outputs": [
    {
     "name": "stderr",
     "output_type": "stream",
     "text": [
      "c:\\Users\\Admin\\.conda\\envs\\interview-prep\\lib\\site-packages\\langchain_core\\_api\\deprecation.py:119: LangChainDeprecationWarning: The class `CohereRerank` was deprecated in LangChain 0.0.30 and will be removed in 0.3.0. An updated version of the class exists in the langchain-cohere package and should be used instead. To use it run `pip install -U langchain-cohere` and import as `from langchain_cohere import CohereRerank`.\n",
      "  warn_deprecated(\n"
     ]
    }
   ],
   "source": [
    "cohere = CohereRerank(cohere_api_key=COHERE_API_KEY)"
   ]
  },
  {
   "cell_type": "code",
   "execution_count": 44,
   "metadata": {},
   "outputs": [],
   "source": [
    "compress_retriever = ContextualCompressionRetriever(base_compressor=cohere, base_retriever=retriever)"
   ]
  },
  {
   "cell_type": "code",
   "execution_count": 67,
   "metadata": {},
   "outputs": [],
   "source": [
    "retrieval_chains = ({\"context\": compress_retriever, \"question\": RunnablePassthrough()} |\n",
    "                   prompt_template |\n",
    "                   llm |\n",
    "                   StrOutputParser())"
   ]
  },
  {
   "cell_type": "code",
   "execution_count": 59,
   "metadata": {},
   "outputs": [
    {
     "data": {
      "text/plain": [
       "langchain_core.runnables.base.RunnableSequence"
      ]
     },
     "execution_count": 59,
     "metadata": {},
     "output_type": "execute_result"
    }
   ],
   "source": [
    "type(retrieval_chains)"
   ]
  },
  {
   "cell_type": "code",
   "execution_count": 69,
   "metadata": {},
   "outputs": [
    {
     "name": "stderr",
     "output_type": "stream",
     "text": [
      "c:\\Users\\Admin\\.conda\\envs\\interview-prep\\lib\\site-packages\\pydantic\\main.py:1070: PydanticDeprecatedSince20: The `dict` method is deprecated; use `model_dump` instead. Deprecated in Pydantic V2.0 to be removed in V3.0. See Pydantic V2 Migration Guide at https://errors.pydantic.dev/2.7/migration/\n",
      "  warnings.warn('The `dict` method is deprecated; use `model_dump` instead.', category=PydanticDeprecatedSince20)\n"
     ]
    },
    {
     "data": {
      "text/plain": [
       "'To configure support groups in ITSM, you need to follow these steps:\\n1. Login to ITSM NG and Open People form.\\n2. Open People profile with Login ID as NetworkActuation.\\n3. Go to Support Groups Tab.\\n4. Open Support Group and add newly created support group.\\n5. Open Support Group Function Role tab and add newly created group, giving functional role as Infrastructure Change Coordinator.'"
      ]
     },
     "execution_count": 69,
     "metadata": {},
     "output_type": "execute_result"
    }
   ],
   "source": [
    "resposne1 = retrieval_chains.invoke(\"How to configure support groups in ITSM\")\n",
    "resposne1"
   ]
  },
  {
   "cell_type": "code",
   "execution_count": 70,
   "metadata": {},
   "outputs": [
    {
     "name": "stderr",
     "output_type": "stream",
     "text": [
      "c:\\Users\\Admin\\.conda\\envs\\interview-prep\\lib\\site-packages\\pydantic\\main.py:1070: PydanticDeprecatedSince20: The `dict` method is deprecated; use `model_dump` instead. Deprecated in Pydantic V2.0 to be removed in V3.0. See Pydantic V2 Migration Guide at https://errors.pydantic.dev/2.7/migration/\n",
      "  warnings.warn('The `dict` method is deprecated; use `model_dump` instead.', category=PydanticDeprecatedSince20)\n"
     ]
    },
    {
     "data": {
      "text/plain": [
       "'To configure support groups in ITSM, follow these steps:\\n\\n1. On the Standard Configuration tab of the Application Administration Console, select the correct company.\\n2. Click the Create link next to Support Group.\\n3. Enter or select information in the Support Organization field.\\n4. Enter the name of the support organization.\\n5. Enter or select information in the Support Group Name field.\\n6. Enter the support group role (e.g. Help Desk, Tier 1, Tier 2, Line of Business).\\n7. Click Add to add the support group.\\n8. Repeat the process to add all required support groups.\\n9. When finished, click Close to save the configuration.'"
      ]
     },
     "execution_count": 70,
     "metadata": {},
     "output_type": "execute_result"
    }
   ],
   "source": [
    "resposne2 = retrieval_chain.invoke(\"How to configure support groups in ITSM\")\n",
    "resposne2"
   ]
  },
  {
   "cell_type": "code",
   "execution_count": 72,
   "metadata": {},
   "outputs": [
    {
     "name": "stderr",
     "output_type": "stream",
     "text": [
      "c:\\Users\\Admin\\.conda\\envs\\interview-prep\\lib\\site-packages\\pydantic\\main.py:1070: PydanticDeprecatedSince20: The `dict` method is deprecated; use `model_dump` instead. Deprecated in Pydantic V2.0 to be removed in V3.0. See Pydantic V2 Migration Guide at https://errors.pydantic.dev/2.7/migration/\n",
      "  warnings.warn('The `dict` method is deprecated; use `model_dump` instead.', category=PydanticDeprecatedSince20)\n"
     ]
    },
    {
     "data": {
      "text/plain": [
       "'To make Requested Start Date and Requested End Date mandatory in CR, you need to check the respective checkboxes in the form \"Eric:CustomerInterface\" for the specific change class. This action will set the Requested Start Date and End Date as mandatory for creating a CR.'"
      ]
     },
     "execution_count": 72,
     "metadata": {},
     "output_type": "execute_result"
    }
   ],
   "source": [
    "resposne1 = retrieval_chains.invoke(\"How to make Requested Start Date and Requested End Date mandatory in CR?\")\n",
    "resposne1"
   ]
  },
  {
   "cell_type": "code",
   "execution_count": 76,
   "metadata": {},
   "outputs": [
    {
     "name": "stderr",
     "output_type": "stream",
     "text": [
      "c:\\Users\\Admin\\.conda\\envs\\interview-prep\\lib\\site-packages\\pydantic\\main.py:1070: PydanticDeprecatedSince20: The `dict` method is deprecated; use `model_dump` instead. Deprecated in Pydantic V2.0 to be removed in V3.0. See Pydantic V2 Migration Guide at https://errors.pydantic.dev/2.7/migration/\n",
      "  warnings.warn('The `dict` method is deprecated; use `model_dump` instead.', category=PydanticDeprecatedSince20)\n"
     ]
    },
    {
     "data": {
      "text/plain": [
       "'Based on the information provided, the ITSM-BPMS interface supports modules such as Change Management, Problem Management, and Incident Management within ITSM.'"
      ]
     },
     "execution_count": 76,
     "metadata": {},
     "output_type": "execute_result"
    }
   ],
   "source": [
    "resposne3 = retrieval_chain.invoke(\"which all modules of ITSM are supported for ITSM-BPMS interface?\")\n",
    "resposne3"
   ]
  },
  {
   "cell_type": "code",
   "execution_count": null,
   "metadata": {},
   "outputs": [],
   "source": [
    "retrieval_chain.ainvoke"
   ]
  },
  {
   "cell_type": "code",
   "execution_count": null,
   "metadata": {},
   "outputs": [],
   "source": []
  }
 ],
 "metadata": {
  "kernelspec": {
   "display_name": "interview-prep",
   "language": "python",
   "name": "python3"
  },
  "language_info": {
   "codemirror_mode": {
    "name": "ipython",
    "version": 3
   },
   "file_extension": ".py",
   "mimetype": "text/x-python",
   "name": "python",
   "nbconvert_exporter": "python",
   "pygments_lexer": "ipython3",
   "version": "3.10.0"
  }
 },
 "nbformat": 4,
 "nbformat_minor": 2
}
